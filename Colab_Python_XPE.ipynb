{
  "nbformat": 4,
  "nbformat_minor": 0,
  "metadata": {
    "colab": {
      "provenance": [],
      "authorship_tag": "ABX9TyOtCyTE5x4K4FzqL4+p7e52",
      "include_colab_link": true
    },
    "kernelspec": {
      "name": "python3",
      "display_name": "Python 3"
    },
    "language_info": {
      "name": "python"
    }
  },
  "cells": [
    {
      "cell_type": "markdown",
      "metadata": {
        "id": "view-in-github",
        "colab_type": "text"
      },
      "source": [
        "<a href=\"https://colab.research.google.com/github/luanca/googleColab/blob/main/Colab_Python_XPE.ipynb\" target=\"_parent\"><img src=\"https://colab.research.google.com/assets/colab-badge.svg\" alt=\"Open In Colab\"/></a>"
      ]
    },
    {
      "cell_type": "code",
      "execution_count": null,
      "metadata": {
        "colab": {
          "base_uri": "https://localhost:8080/"
        },
        "id": "B4Qtork_Jemc",
        "outputId": "ec11526e-51ca-4949-ecad-c4708bd4201c"
      },
      "outputs": [
        {
          "output_type": "stream",
          "name": "stdout",
          "text": [
            "Olá Luan Carvalho seja bem-vindo!\n"
          ]
        }
      ],
      "source": [
        "nome = 'Luan Carvalho'\n",
        "print('Olá', nome, 'seja bem-vindo!')"
      ]
    },
    {
      "cell_type": "code",
      "source": [
        "# define o valor do limiar\n",
        "limiar = 5\n",
        "\n",
        "menores = [] # cria lista menores\n",
        "maiores = [] # cria lista maiores\n",
        "\n",
        "# divide os números de 1 a 10 em maiores e menores\n",
        "for i in range(10): \n",
        "  if (i < limiar):\n",
        "    menores.append(i)\n",
        "  elif (i > limiar):\n",
        "    maiores.append(i)\n",
        "\n",
        "# imprime na tela os valores das listas\n",
        "print('Resultado final')\n",
        "print('menores:', menores)\n",
        "print('maiores:', maiores)"
      ],
      "metadata": {
        "colab": {
          "base_uri": "https://localhost:8080/"
        },
        "id": "_Y8jxpv3L2JI",
        "outputId": "e6810b8b-422f-4f78-bc95-2c0ade0faa08"
      },
      "execution_count": null,
      "outputs": [
        {
          "output_type": "stream",
          "name": "stdout",
          "text": [
            "Resultado final\n",
            "menores: [0, 1, 2, 3, 4]\n",
            "maiores: [6, 7, 8, 9]\n"
          ]
        }
      ]
    },
    {
      "cell_type": "code",
      "source": [
        "lista = [1, 12, 2,4, 1,2, 1]\n",
        "print(lista)\n",
        "lista.sort()\n",
        "print(lista.count(1))"
      ],
      "metadata": {
        "colab": {
          "base_uri": "https://localhost:8080/"
        },
        "id": "FGoTf1ggUum0",
        "outputId": "f9232c51-66ce-43aa-adb7-cf336ce729ec"
      },
      "execution_count": 12,
      "outputs": [
        {
          "output_type": "stream",
          "name": "stdout",
          "text": [
            "[1, 12, 2, 4, 1, 2, 1]\n",
            "3\n"
          ]
        }
      ]
    },
    {
      "cell_type": "code",
      "source": [
        "# Criação dos conjuntos A e B\n",
        "A = {1, 2, 3, 4, 5}\n",
        "B = {4, 5, 6, 7, 8}\n",
        "print('A:', A)\n",
        "print('B:', B)\n",
        "# Operação de União: (A ∪ B)\n",
        "print('A | B =>', A | B)\n",
        "print('A.union(B) =>', A.union(B))\n",
        "# Operação de Interseção: (A ∩ B)\n",
        "print('A & B =>', A & B)\n",
        "print('A.intersection(B) =>', A.intersection(B))\n",
        "# Operação de Diferença: (A - B) e (B - A)\n",
        "print('A - B =>', A - B)\n",
        "print('A.difference(B) =>', A.difference(B))\n",
        "print('B - A =>', B - A)\n",
        "print('B.difference(A) =>', B.difference(A))"
      ],
      "metadata": {
        "colab": {
          "base_uri": "https://localhost:8080/"
        },
        "id": "QVBWez8sZggt",
        "outputId": "b0bb4f48-8702-485b-ca0f-453057425b66"
      },
      "execution_count": 13,
      "outputs": [
        {
          "output_type": "stream",
          "name": "stdout",
          "text": [
            "A: {1, 2, 3, 4, 5}\n",
            "B: {4, 5, 6, 7, 8}\n",
            "A | B => {1, 2, 3, 4, 5, 6, 7, 8}\n",
            "A.union(B) => {1, 2, 3, 4, 5, 6, 7, 8}\n",
            "A & B => {4, 5}\n",
            "A.intersection(B) => {4, 5}\n",
            "A - B => {1, 2, 3}\n",
            "A.difference(B) => {1, 2, 3}\n",
            "B - A => {8, 6, 7}\n",
            "B.difference(A) => {8, 6, 7}\n"
          ]
        }
      ]
    },
    {
      "cell_type": "code",
      "source": [
        "# Criação dos conjuntos A e B\n",
        "c1 = {1, 2, 3, 4, 5}\n",
        "c2 = {4, 5}\n",
        "c3 = {91, 92, 93}\n",
        "# Adiciona um elemento ao conjunto\n",
        "c1.add(6)\n",
        "print(c1)\n",
        "# Adiciona os elementos de uma sequência iterável\n",
        "c1.update([2, 4, 6, 8])\n",
        "print(c1)\n",
        "# Descarta um elemento do conjunto,\n",
        "c1.discard(8)\n",
        "print(c1)\n",
        "# Diferentemente do set.remove(), o discard não gera um erro\n",
        "# se o elmento a ser removido não existir\n",
        "c1.discard(99)\n",
        "print(c1)\n",
        "# Verifica se os conjuntos são disjuntos, ou seja,\n",
        "# se não possuem nenhum elemento em comum\n",
        "print(c1.isdisjoint(c2))\n",
        "print(c1.isdisjoint(c3))\n",
        "# Verifica se o conjunto é subconjunto de outro\n",
        "print(c1.issubset(c2))\n",
        "print(c2.issubset(c1))\n",
        "# Verifica se o conjunto contém outro conjunto (superset)\n",
        "print(c1.issuperset(c2))\n",
        "print(c2.issuperset(c1))"
      ],
      "metadata": {
        "colab": {
          "base_uri": "https://localhost:8080/"
        },
        "id": "Yk2jP7XEaF5O",
        "outputId": "626b79b5-15d5-45b9-bee1-7434dfc20d25"
      },
      "execution_count": 15,
      "outputs": [
        {
          "output_type": "stream",
          "name": "stdout",
          "text": [
            "{1, 2, 3, 4, 5, 6}\n",
            "{1, 2, 3, 4, 5, 6, 8}\n",
            "{1, 2, 3, 4, 5, 6}\n",
            "{1, 2, 3, 4, 5, 6}\n",
            "False\n",
            "True\n",
            "False\n",
            "True\n",
            "True\n",
            "False\n"
          ]
        }
      ]
    },
    {
      "cell_type": "code",
      "source": [
        "ING = {'Gabriel', 'Caio', 'Maria', 'Ana', 'Juliano', 'Flávia', 'Rubens', 'Bruna'}\n",
        "ESP = {'Caio', 'Artur', 'Beatriz', 'Carolina', 'Maria', 'Juliano', 'Bruna', 'Rui'}\n",
        "FRA = {'Pedro', 'Bruna', 'Paula', 'Tiago', 'Maria', 'Flávia', 'Rui', 'Carolina'}\n",
        "# 1 – Interseção entre os pares de turmas: (ING & ESP), (ING & FRA) e (ESP & FRA)\n",
        "# 2 – Calcula a união das interseções\n",
        "ALUNOS_DESCONTO = (ING & ESP) | (ING & FRA) | (ESP & FRA)\n",
        "ALUNOS_INTERSECOES = ING | ESP | FRA\n",
        "# Exibição do resultado\n",
        "print('Relação de dos alunos com desconto:')\n",
        "print(ALUNOS_DESCONTO)\n",
        "print(ALUNOS_INTERSECOES)"
      ],
      "metadata": {
        "colab": {
          "base_uri": "https://localhost:8080/"
        },
        "id": "eoOpId4hb7VB",
        "outputId": "9c53275a-f79b-4371-9563-8780bbc716ff"
      },
      "execution_count": 17,
      "outputs": [
        {
          "output_type": "stream",
          "name": "stdout",
          "text": [
            "Relação de dos alunos com desconto:\n",
            "{'Caio', 'Rui', 'Maria', 'Juliano', 'Carolina', 'Flávia', 'Bruna'}\n",
            "{'Beatriz', 'Rui', 'Rubens', 'Juliano', 'Ana', 'Carolina', 'Tiago', 'Flávia', 'Bruna', 'Caio', 'Pedro', 'Paula', 'Maria', 'Gabriel', 'Artur'}\n"
          ]
        }
      ]
    },
    {
      "cell_type": "markdown",
      "source": [
        "Capítulo 6"
      ],
      "metadata": {
        "id": "U8s25lOGfMh-"
      }
    }
  ]
}